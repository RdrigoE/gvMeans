{
 "cells": [
  {
   "cell_type": "code",
   "execution_count": 1,
   "metadata": {},
   "outputs": [],
   "source": [
    "from GV_Mean_lib import get_mean_gv_percentage"
   ]
  },
  {
   "cell_type": "code",
   "execution_count": 2,
   "metadata": {},
   "outputs": [],
   "source": [
    "\n",
    "files_to_analyse = [ \n",
    "    {\n",
    "        'file_name': '~/Downloads/MembraneExperiments_CTR shScramble Exp1.xlsx', \n",
    "        'sheet_name': 'C2Rednew_CTR (2)'\n",
    "    },\n",
    "    {\n",
    "        'file_name': 'xxx', \n",
    "        'sheet_name': 'yyy'\n",
    "    }, \n",
    "    {\n",
    "        'file_name': 'xxx', \n",
    "        'sheet_name': 'yyy'\n",
    "    }, \n",
    "]"
   ]
  },
  {
   "cell_type": "code",
   "execution_count": 3,
   "metadata": {},
   "outputs": [
    {
     "name": "stdout",
     "output_type": "stream",
     "text": [
      "-----------------\n",
      "\n",
      "The file \"~/Downloads/MembraneExperiments_CTR shScramble Exp1.xlsx\" is now beginning to be processed.\n",
      "\n",
      "- The file \"~/Downloads/MembraneExperiments_CTR shScramble Exp1.xlsx__means.xlsx\" was just created.\n",
      "- The file \"~/Downloads/MembraneExperiments_CTR shScramble Exp1.xlsx__final.xlsx\" was just created.\n",
      "\n",
      "-----------------\n",
      "\n",
      "The file \"xxx\" is now beginning to be processed.\n",
      "\n",
      "The file \"xxx\" could not be found. Please verify the file path and ensure it exists in the specified location.\n",
      "\n",
      "-----------------\n",
      "\n",
      "The file \"xxx\" is now beginning to be processed.\n",
      "\n",
      "The file \"xxx\" could not be found. Please verify the file path and ensure it exists in the specified location.\n",
      "\n"
     ]
    }
   ],
   "source": [
    "for current_file in files_to_analyse:\n",
    "        print('-----------------\\n')\n",
    "        file_name = current_file['file_name']\n",
    "        sheet_name = current_file['sheet_name']\n",
    "        print(f'The file \"{file_name}\" is now beginning to be processed.\\n')\n",
    "        try:\n",
    "            get_mean_gv_percentage(file_name, sheet_name, verbose = True)\n",
    "        except FileNotFoundError:\n",
    "            print(f'The file \"{file_name}\" could not be found. Please verify the file path and ensure it exists in the specified location.')\n",
    "        print('')"
   ]
  }
 ],
 "metadata": {
  "kernelspec": {
   "display_name": "Python 3 (ipykernel)",
   "language": "python",
   "name": "python3"
  },
  "language_info": {
   "codemirror_mode": {
    "name": "ipython",
    "version": 3
   },
   "file_extension": ".py",
   "mimetype": "text/x-python",
   "name": "python",
   "nbconvert_exporter": "python",
   "pygments_lexer": "ipython3",
   "version": "3.10.12"
  }
 },
 "nbformat": 4,
 "nbformat_minor": 2
}
